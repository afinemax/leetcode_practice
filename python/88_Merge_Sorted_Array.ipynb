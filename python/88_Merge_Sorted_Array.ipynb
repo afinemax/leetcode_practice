{
 "cells": [
  {
   "cell_type": "markdown",
   "metadata": {},
   "source": [
    "### 88. Merge Sorted Array\n",
    "\n",
    "#### Easy\n",
    "\n",
    "#### Problem Statement:\n",
    "You are given two integer arrays `nums1` and `nums2`, sorted in non-decreasing order, and two integers `m` and `n`, representing the number of elements in `nums1` and `nums2` respectively.\n",
    "\n",
    "Merge `nums1` and `nums2` into a single array sorted in non-decreasing order.\n",
    "\n",
    "The final sorted array should not be returned by the function, but instead be stored inside the array `nums1`. To accommodate this, `nums1` has a length of `m + n`, where the first `m` elements denote the elements that should be merged, and the last `n` elements are set to `0` and should be ignored. `nums2` has a length of `n`.\n",
    "\n",
    "#### Example 1:\n",
    "```python\n",
    "# Input\n",
    "nums1 = [1,2,3,0,0,0]\n",
    "m = 3\n",
    "nums2 = [2,5,6]\n",
    "n = 3\n",
    "# Output\n",
    "# [1,2,2,3,5,6]\n",
    "```\n",
    "\n",
    "#### Example 2:\n",
    "```python\n",
    "# Input\n",
    "nums1 = [1]\n",
    "m = 1\n",
    "nums2 = []\n",
    "n = 0\n",
    "# Output\n",
    "# [1]\n",
    "```\n",
    "\n",
    "#### Example 3:\n",
    "```python\n",
    "# Input\n",
    "nums1 = [0]\n",
    "m = 0\n",
    "nums2 = [1]\n",
    "n = 1\n",
    "# Output\n",
    "# [1]\n",
    "```\n",
    "\n",
    "#### Constraints:\n",
    "- `nums1.length == m + n`\n",
    "- `nums2.length == n`\n",
    "- `0 <= m, n <= 200`\n",
    "- `1 <= m + n <= 200`\n",
    "- `-10^9 <= nums1[i], nums2[j] <= 10^9`\n",
    "\n",
    "#### Follow-up:\n",
    "Can you come up with an algorithm that runs in `O(m + n)` time?\n",
    "'''"
   ]
  },
  {
   "cell_type": "markdown",
   "metadata": {},
   "source": []
  },
  {
   "cell_type": "markdown",
   "metadata": {},
   "source": [
    "# My Solution:"
   ]
  },
  {
   "cell_type": "code",
   "execution_count": 4,
   "metadata": {},
   "outputs": [],
   "source": [
    "from typing import List"
   ]
  },
  {
   "cell_type": "code",
   "execution_count": 5,
   "metadata": {},
   "outputs": [],
   "source": [
    "class Solution:\n",
    "    def merge(self, nums1: List[int], m: int, nums2: List[int], n: int) -> None:\n",
    "        \"\"\"\n",
    "        Do not return anything, modify nums1 in-place instead.\n",
    "        \"\"\"\n",
    "\n",
    "        # the idea is to create 2 idx counters to slide over the lists \n",
    "        # insure that idx2 doesnt go out of range \n",
    "        # insure that when we get to get to the placeholder values in list 1 they are selected, while selecting 0's otherwise \n",
    "\n",
    "        # init indicies \n",
    "        idx1 = 0\n",
    "        idx2 = 0\n",
    "        total_idx = 0\n",
    "        counter_max = len(nums1)\n",
    "        \n",
    "        # make a copy of nums1\n",
    "        nums1_copy = nums1.copy()\n",
    "\n",
    "        for i in range(m+n):\n",
    "            nums1_value = nums1_copy[idx1]\n",
    "\n",
    "            if idx2 >= n:\n",
    "                nums1[i] = nums1_value\n",
    "                idx1 +=1 \n",
    "\n",
    "            if idx2 < n:\n",
    "                nums2_value = nums2[idx2]\n",
    "\n",
    "                if nums1_value <= nums2_value and idx1 <m:\n",
    "                    nums1[i] = nums1_value\n",
    "                    idx1 +=1 \n",
    "\n",
    "                else:\n",
    "                    nums1[i] = nums2_value\n",
    "                    idx2 +=1\n",
    "\n"
   ]
  },
  {
   "cell_type": "code",
   "execution_count": 6,
   "metadata": {},
   "outputs": [
    {
     "name": "stdout",
     "output_type": "stream",
     "text": [
      "[1, 2, 2, 3, 5, 6]\n"
     ]
    }
   ],
   "source": [
    "# Test case\n",
    "nums1 = [1, 2, 3, 0, 0, 0]  # nums1 has extra space for nums2\n",
    "m = 3\n",
    "nums2 = [2, 5, 6]\n",
    "n = 3\n",
    "\n",
    "sol = Solution()\n",
    "sol.merge(nums1, m, nums2, n)\n",
    "\n",
    "# Print the result\n",
    "print(nums1)  # Expected output: [1, 2, 2, 3, 5, 6]"
   ]
  },
  {
   "cell_type": "code",
   "execution_count": null,
   "metadata": {},
   "outputs": [],
   "source": []
  }
 ],
 "metadata": {
  "kernelspec": {
   "display_name": "masters_thesis",
   "language": "python",
   "name": "python3"
  },
  "language_info": {
   "codemirror_mode": {
    "name": "ipython",
    "version": 3
   },
   "file_extension": ".py",
   "mimetype": "text/x-python",
   "name": "python",
   "nbconvert_exporter": "python",
   "pygments_lexer": "ipython3",
   "version": "3.12.9"
  }
 },
 "nbformat": 4,
 "nbformat_minor": 2
}
